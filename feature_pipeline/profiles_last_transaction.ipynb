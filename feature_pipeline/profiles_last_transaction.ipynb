{
 "cells": [
  {
   "cell_type": "code",
   "execution_count": 1,
   "id": "15cdfb8f",
   "metadata": {},
   "outputs": [],
   "source": [
    "import hopsworks\n",
    "import os\n",
    "import great_expectations as ge\n",
    "from great_expectations.core import ExpectationSuite, ExpectationConfiguration\n",
    "\n",
    "import math\n",
    "import pandas as pd"
   ]
  },
  {
   "cell_type": "code",
   "execution_count": 2,
   "id": "c9b99d21",
   "metadata": {},
   "outputs": [
    {
     "name": "stdout",
     "output_type": "stream",
     "text": [
      "2024-10-17 14:34:49,463 INFO: Python Engine initialized.\n",
      "\n",
      "Logged in to project, explore it here https://demo.hops.works/p/123\n"
     ]
    }
   ],
   "source": [
    "# Connect to the Hopsworks Feature Store\n",
    "project = hopsworks.login()\n",
    "fs = project.get_feature_store()"
   ]
  },
  {
   "cell_type": "code",
   "execution_count": 3,
   "id": "5c085596",
   "metadata": {},
   "outputs": [],
   "source": [
    "# Read the historical transaction data\n",
    "transactions_pdf = pd.read_csv(f\"{os.environ['PROJECT_PATH']}/RawData/historical_transactions.csv\", parse_dates=['datetime'])"
   ]
  },
  {
   "cell_type": "code",
   "execution_count": 4,
   "id": "3db22812",
   "metadata": {},
   "outputs": [],
   "source": [
    "transactions_pdf = transactions_pdf[[\"datetime\", \"cc_num\", \"latitude\", 'longitude']]\n",
    "\n",
    "# cc_num is more of an account_id rather than a proper credit card number, rename the column to avoid confusion\n",
    "transactions_pdf.rename(columns={'cc_num': 'account_id', 'datetime': 'transaction_datetime'}, inplace=True) "
   ]
  },
  {
   "cell_type": "code",
   "execution_count": 5,
   "id": "e761f9b3",
   "metadata": {},
   "outputs": [],
   "source": [
    "profiles_last_transaction_pdf = transactions_pdf.sort_values('transaction_datetime').groupby('account_id').tail(1)"
   ]
  },
  {
   "cell_type": "code",
   "execution_count": 6,
   "id": "0776196d",
   "metadata": {},
   "outputs": [
    {
     "data": {
      "text/html": [
       "<div>\n",
       "<style scoped>\n",
       "    .dataframe tbody tr th:only-of-type {\n",
       "        vertical-align: middle;\n",
       "    }\n",
       "\n",
       "    .dataframe tbody tr th {\n",
       "        vertical-align: top;\n",
       "    }\n",
       "\n",
       "    .dataframe thead th {\n",
       "        text-align: right;\n",
       "    }\n",
       "</style>\n",
       "<table border=\"1\" class=\"dataframe\">\n",
       "  <thead>\n",
       "    <tr style=\"text-align: right;\">\n",
       "      <th></th>\n",
       "      <th>transaction_datetime</th>\n",
       "      <th>account_id</th>\n",
       "      <th>latitude</th>\n",
       "      <th>longitude</th>\n",
       "    </tr>\n",
       "  </thead>\n",
       "  <tbody>\n",
       "    <tr>\n",
       "      <th>46092</th>\n",
       "      <td>2024-09-19 14:07:29</td>\n",
       "      <td>77025ad95578f857bd6a7390b92e8682</td>\n",
       "      <td>39.717340</td>\n",
       "      <td>-74.969330</td>\n",
       "    </tr>\n",
       "    <tr>\n",
       "      <th>47607</th>\n",
       "      <td>2024-09-24 13:43:16</td>\n",
       "      <td>018ff07230cc505876224e941dfd6096</td>\n",
       "      <td>42.527870</td>\n",
       "      <td>-70.928660</td>\n",
       "    </tr>\n",
       "    <tr>\n",
       "      <th>48423</th>\n",
       "      <td>2024-09-27 07:15:32</td>\n",
       "      <td>7d772777e1409e7191e646e58811b444</td>\n",
       "      <td>39.334270</td>\n",
       "      <td>-76.439410</td>\n",
       "    </tr>\n",
       "    <tr>\n",
       "      <th>48710</th>\n",
       "      <td>2024-09-28 07:00:31</td>\n",
       "      <td>858eeba131592e1a20bba8a83290feb9</td>\n",
       "      <td>31.845680</td>\n",
       "      <td>-102.367640</td>\n",
       "    </tr>\n",
       "    <tr>\n",
       "      <th>62072</th>\n",
       "      <td>2024-09-28 19:25:57</td>\n",
       "      <td>46625b13e486eddd36653c86357b99e5</td>\n",
       "      <td>29.657426</td>\n",
       "      <td>-82.316532</td>\n",
       "    </tr>\n",
       "    <tr>\n",
       "      <th>...</th>\n",
       "      <td>...</td>\n",
       "      <td>...</td>\n",
       "      <td>...</td>\n",
       "      <td>...</td>\n",
       "    </tr>\n",
       "    <tr>\n",
       "      <th>53995</th>\n",
       "      <td>2024-10-15 21:58:15</td>\n",
       "      <td>71884f7fc735581e5151d76e61e22740</td>\n",
       "      <td>35.052660</td>\n",
       "      <td>-78.878360</td>\n",
       "    </tr>\n",
       "    <tr>\n",
       "      <th>53996</th>\n",
       "      <td>2024-10-15 22:01:05</td>\n",
       "      <td>3f6bf7522fe533c8ba0c802d14197bf2</td>\n",
       "      <td>33.352830</td>\n",
       "      <td>-111.789030</td>\n",
       "    </tr>\n",
       "    <tr>\n",
       "      <th>53997</th>\n",
       "      <td>2024-10-15 22:03:20</td>\n",
       "      <td>b27647b73dcc913bf07f58ab066e32e8</td>\n",
       "      <td>42.583420</td>\n",
       "      <td>-71.802300</td>\n",
       "    </tr>\n",
       "    <tr>\n",
       "      <th>53998</th>\n",
       "      <td>2024-10-15 22:06:34</td>\n",
       "      <td>0eea379415b6009b54f528c1f79a78f9</td>\n",
       "      <td>40.557600</td>\n",
       "      <td>-74.284590</td>\n",
       "    </tr>\n",
       "    <tr>\n",
       "      <th>53999</th>\n",
       "      <td>2024-10-15 22:08:21</td>\n",
       "      <td>917e607d8d272a11f62d37f7a5387804</td>\n",
       "      <td>34.639150</td>\n",
       "      <td>-120.457940</td>\n",
       "    </tr>\n",
       "  </tbody>\n",
       "</table>\n",
       "<p>1000 rows × 4 columns</p>\n",
       "</div>"
      ],
      "text/plain": [
       "      transaction_datetime                        account_id   latitude  \\\n",
       "46092  2024-09-19 14:07:29  77025ad95578f857bd6a7390b92e8682  39.717340   \n",
       "47607  2024-09-24 13:43:16  018ff07230cc505876224e941dfd6096  42.527870   \n",
       "48423  2024-09-27 07:15:32  7d772777e1409e7191e646e58811b444  39.334270   \n",
       "48710  2024-09-28 07:00:31  858eeba131592e1a20bba8a83290feb9  31.845680   \n",
       "62072  2024-09-28 19:25:57  46625b13e486eddd36653c86357b99e5  29.657426   \n",
       "...                    ...                               ...        ...   \n",
       "53995  2024-10-15 21:58:15  71884f7fc735581e5151d76e61e22740  35.052660   \n",
       "53996  2024-10-15 22:01:05  3f6bf7522fe533c8ba0c802d14197bf2  33.352830   \n",
       "53997  2024-10-15 22:03:20  b27647b73dcc913bf07f58ab066e32e8  42.583420   \n",
       "53998  2024-10-15 22:06:34  0eea379415b6009b54f528c1f79a78f9  40.557600   \n",
       "53999  2024-10-15 22:08:21  917e607d8d272a11f62d37f7a5387804  34.639150   \n",
       "\n",
       "        longitude  \n",
       "46092  -74.969330  \n",
       "47607  -70.928660  \n",
       "48423  -76.439410  \n",
       "48710 -102.367640  \n",
       "62072  -82.316532  \n",
       "...           ...  \n",
       "53995  -78.878360  \n",
       "53996 -111.789030  \n",
       "53997  -71.802300  \n",
       "53998  -74.284590  \n",
       "53999 -120.457940  \n",
       "\n",
       "[1000 rows x 4 columns]"
      ]
     },
     "execution_count": 6,
     "metadata": {},
     "output_type": "execute_result"
    }
   ],
   "source": [
    "profiles_last_transaction_pdf"
   ]
  },
  {
   "cell_type": "code",
   "execution_count": 7,
   "id": "9caaeb8a",
   "metadata": {},
   "outputs": [],
   "source": [
    "# Create the feature group metadata\n",
    "profiles_last_transaction_fg = fs.get_or_create_feature_group(\n",
    "    name=\"profiles_last_transaction\",\n",
    "    version=1,\n",
    "    description=\"Last transaction time and location for each account\",\n",
    "    primary_key=['account_id'],\n",
    "    event_time='transaction_datetime',\n",
    "    online_enabled=True,\n",
    "    statistics_config={'histograms': True, 'correlations': True}\n",
    ")"
   ]
  },
  {
   "cell_type": "code",
   "execution_count": 8,
   "id": "383826cb",
   "metadata": {},
   "outputs": [
    {
     "name": "stdout",
     "output_type": "stream",
     "text": [
      "Feature Group created successfully, explore it at \n",
      "https://demo.hops.works/p/123/fs/68/fg/1075\n"
     ]
    },
    {
     "name": "stderr",
     "output_type": "stream",
     "text": [
      "Uploading Dataframe: 100.00% |██████████| Rows 1000/1000 | Elapsed Time: 00:00 | Remaining Time: 00:00\n"
     ]
    },
    {
     "name": "stdout",
     "output_type": "stream",
     "text": [
      "Launching job: profiles_last_transaction_1_offline_fg_materialization\n",
      "Job started successfully, you can follow the progress at \n",
      "https://demo.hops.works/p/123/jobs/named/profiles_last_transaction_1_offline_fg_materialization/executions\n"
     ]
    },
    {
     "data": {
      "text/plain": [
       "(Job('profiles_last_transaction_1_offline_fg_materialization', 'SPARK'), None)"
      ]
     },
     "execution_count": 8,
     "metadata": {},
     "output_type": "execute_result"
    }
   ],
   "source": [
    "# Insert data into feature group\n",
    "profiles_last_transaction_fg.insert(profiles_last_transaction_pdf)"
   ]
  },
  {
   "cell_type": "code",
   "execution_count": null,
   "id": "4bca3aab",
   "metadata": {},
   "outputs": [],
   "source": []
  }
 ],
 "metadata": {
  "kernelspec": {
   "display_name": "Python",
   "language": "python",
   "name": "python3"
  },
  "language_info": {
   "codemirror_mode": {
    "name": "ipython",
    "version": 3
   },
   "file_extension": ".py",
   "mimetype": "text/x-python",
   "name": "python",
   "nbconvert_exporter": "python",
   "pygments_lexer": "ipython3",
   "version": "3.10.11"
  }
 },
 "nbformat": 4,
 "nbformat_minor": 5
}
