{
 "cells": [
  {
   "cell_type": "code",
   "execution_count": 1,
   "id": "acb6c211",
   "metadata": {},
   "outputs": [],
   "source": [
    "import hopsworks"
   ]
  },
  {
   "cell_type": "code",
   "execution_count": 2,
   "id": "ac49ba2f",
   "metadata": {},
   "outputs": [
    {
     "name": "stdout",
     "output_type": "stream",
     "text": [
      "Connected. Call `.close()` to terminate connection gracefully.\n",
      "\n",
      "Logged in to project, explore it here https://pocs.cloud.hopsworks.ai/p/125\n",
      "Connected. Call `.close()` to terminate connection gracefully.\n"
     ]
    }
   ],
   "source": [
    "# Connect to the Hopsworks Feature Store\n",
    "project = hopsworks.login()\n",
    "fs = project.get_feature_store()"
   ]
  },
  {
   "cell_type": "code",
   "execution_count": 4,
   "id": "bc55a8f3",
   "metadata": {},
   "outputs": [
    {
     "name": "stdout",
     "output_type": "stream",
     "text": [
      "Connection closed.\n",
      "Connected. Call `.close()` to terminate connection gracefully.\n",
      "\n",
      "Logged in to project, explore it here https://pocs.cloud.hopsworks.ai/p/125\n",
      "Connected. Call `.close()` to terminate connection gracefully.\n",
      "Feature Group created successfully, explore it at \n",
      "https://pocs.cloud.hopsworks.ai/p/125/fs/73/fg/52\n"
     ]
    },
    {
     "data": {
      "text/plain": [
       "(None, None)"
      ]
     },
     "execution_count": 4,
     "metadata": {},
     "output_type": "execute_result"
    }
   ],
   "source": [
    "from hsfs.feature import Feature\n",
    "\n",
    "project = hopsworks.login()\n",
    "fs = project.get_feature_store()\n",
    "\n",
    "# Setup the feature groups for the bytewax pipelines\n",
    "features = [\n",
    "    Feature(name=\"account_id\", type=\"string\"),\n",
    "    Feature(name=\"timestamp\", type=\"timestamp\"),\n",
    "    Feature(name=\"count\", description=\"Number of transactions in the last 5 minutes\", type=\"int\"),\n",
    "    Feature(name=\"min_amount\", description=\"Min transaction amount in the last 5 minutes\", type=\"float\"),\n",
    "    Feature(name=\"max_amount\", description=\"Max transaction amount in the last 5 minutes\", type=\"float\"),\n",
    "    Feature(name=\"mean\", description=\"Mean transaction amount in the last 5 minutes\", type=\"float\")\n",
    "]\n",
    "\n",
    "fg = fs.create_feature_group(\n",
    "    name=\"profiles_activity_5m\",\n",
    "    description=\"Profiles activity within the last 5 minutes\",\n",
    "    version=1,\n",
    "    primary_key=[\"account_id\"],\n",
    "    event_time=\"timestamp\",\n",
    "    statistics_config={'histograms': True, 'correlations': True},\n",
    "    online_enabled=True,\n",
    ")\n",
    "\n",
    "fg.save(features)"
   ]
  },
  {
   "cell_type": "code",
   "execution_count": null,
   "id": "1f71dff3",
   "metadata": {},
   "outputs": [],
   "source": []
  }
 ],
 "metadata": {
  "kernelspec": {
   "display_name": "Python",
   "language": "python",
   "name": "python3"
  },
  "language_info": {
   "codemirror_mode": {
    "name": "ipython",
    "version": 3
   },
   "file_extension": ".py",
   "mimetype": "text/x-python",
   "name": "python",
   "nbconvert_exporter": "python",
   "pygments_lexer": "ipython3",
   "version": "3.10.11"
  }
 },
 "nbformat": 4,
 "nbformat_minor": 5
}
