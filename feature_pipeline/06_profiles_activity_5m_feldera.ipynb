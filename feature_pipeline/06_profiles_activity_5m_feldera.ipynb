{
 "cells": [
  {
   "cell_type": "code",
   "execution_count": 52,
   "id": "e48ff2c5",
   "metadata": {},
   "outputs": [],
   "source": [
    "import hopsworks\n",
    "import json\n",
    "\n",
    "from feldera import FelderaClient, PipelineBuilder"
   ]
  },
  {
   "cell_type": "code",
   "execution_count": 53,
   "id": "b0df5075",
   "metadata": {},
   "outputs": [],
   "source": [
    "connection = hopsworks.connection()\n",
    "secrets_api = connection.get_secrets_api()\n",
    "feldera_api_key = secrets_api.get_secret(\"feldera\").value"
   ]
  },
  {
   "cell_type": "code",
   "execution_count": 54,
   "id": "2efdf8a1",
   "metadata": {},
   "outputs": [],
   "source": [
    "client = FelderaClient(\"https://try.feldera.com\", api_key = feldera_api_key)"
   ]
  },
  {
   "cell_type": "code",
   "execution_count": 55,
   "id": "0ee943b2",
   "metadata": {},
   "outputs": [
    {
     "name": "stdout",
     "output_type": "stream",
     "text": [
      "Connection closed.\n",
      "2024-10-17 23:10:09,773 INFO: Python Engine initialized.\n",
      "\n",
      "Logged in to project, explore it here https://demo.hops.works/p/123\n"
     ]
    }
   ],
   "source": [
    "project = hopsworks.login()"
   ]
  },
  {
   "cell_type": "code",
   "execution_count": 56,
   "id": "65f6033b",
   "metadata": {},
   "outputs": [],
   "source": [
    "fs = project.get_feature_store()\n",
    "windowed_fg = fs.get_feature_group(name=\"profiles_activity_5m\", version=1)"
   ]
  },
  {
   "cell_type": "code",
   "execution_count": 57,
   "id": "17e1947c",
   "metadata": {},
   "outputs": [],
   "source": [
    "kafka_config = fs._storage_connector_api.get_kafka_connector(fs.id, True).confluent_options()"
   ]
  },
  {
   "cell_type": "code",
   "execution_count": 58,
   "id": "cebdc6e9",
   "metadata": {},
   "outputs": [
    {
     "data": {
      "text/plain": [
       "{'bootstrap.servers': '51.68.86.187:9093',\n",
       " 'security.protocol': 'SSL',\n",
       " 'ssl.endpoint.identification.algorithm': 'none',\n",
       " 'ssl.ca.location': '/tmp/kafka_sc_123_-1_ca_chain.pem',\n",
       " 'ssl.certificate.location': '/tmp/kafka_sc_123_-1_client_cert.pem',\n",
       " 'ssl.key.location': '/tmp/kafka_sc_123_-1_client_key.pem'}"
      ]
     },
     "execution_count": 58,
     "metadata": {},
     "output_type": "execute_result"
    }
   ],
   "source": [
    "kafka_config"
   ]
  },
  {
   "cell_type": "code",
   "execution_count": 59,
   "id": "42f41a73",
   "metadata": {},
   "outputs": [],
   "source": [
    "KAFKA_INPUT_TOPIC = f\"{project.name}_real_time_live_transactions\"\n",
    "\n",
    "# Need to remove the location fields from the Kafka config\n",
    "# and provide feldera with the actual pem files\n",
    "ca = kafka_config.pop('ssl.ca.location')\n",
    "certificate = kafka_config.pop('ssl.certificate.location')\n",
    "key = kafka_config.pop('ssl.key.location')\n",
    "\n",
    "kafka_config[\"ssl.ca.pem\"] = open(ca, 'rt').read()\n",
    "kafka_config[\"ssl.certificate.pem\"] = open(certificate, 'rt').read()\n",
    "kafka_config[\"ssl.key.pem\"] = open(key, 'rt').read()"
   ]
  },
  {
   "cell_type": "code",
   "execution_count": 60,
   "id": "7f7542a4",
   "metadata": {},
   "outputs": [],
   "source": [
    "# Feldera source config\n",
    "transaction_source_config = json.dumps({\n",
    "    \"transport\": {\n",
    "        \"name\": \"kafka_input\",\n",
    "        \"config\": kafka_config | {\"topics\": [KAFKA_INPUT_TOPIC], \"auto.offset.reset\": \"earliest\"}\n",
    "    },\n",
    "    \"format\": {\n",
    "        \"name\": \"json\",\n",
    "        \"config\": {\n",
    "            \"update_format\": \"raw\",\n",
    "            \"array\": False\n",
    "        }\n",
    "    }\n",
    "})"
   ]
  },
  {
   "cell_type": "code",
   "execution_count": 61,
   "id": "42c0ed3c",
   "metadata": {},
   "outputs": [],
   "source": [
    "# Feldera Sync config\n",
    "def create_sink_config(kafka_config: dict, fg, project_id):\n",
    "    return kafka_config | {\n",
    "        \"topic\": fg._online_topic_name,\n",
    "        \"auto.offset.reset\": \"earliest\",\n",
    "        \"headers\": [\n",
    "            {\n",
    "                'key': 'projectId',\n",
    "                'value': str(project_id),\n",
    "            },\n",
    "            {\n",
    "                'key': 'featureGroupId',\n",
    "                'value': str(fg.id),\n",
    "            },\n",
    "            {\n",
    "                'key': 'subjectId',\n",
    "                'value': str(fg.subject[\"id\"]),\n",
    "            },\n",
    "        ]\n",
    "    }"
   ]
  },
  {
   "cell_type": "code",
   "execution_count": 62,
   "id": "7c70c72f",
   "metadata": {},
   "outputs": [],
   "source": [
    "windowed_sink_config = json.dumps({\n",
    "    \"transport\": {\n",
    "        \"name\": \"kafka_output\",\n",
    "        \"config\": create_sink_config(kafka_config, windowed_fg, project.id)\n",
    "    },\n",
    "    \"format\": {\n",
    "        \"name\": \"avro\",\n",
    "        \"config\": {\n",
    "            \"schema\": windowed_fg.avro_schema,\n",
    "            \"skip_schema_id\": True\n",
    "        }\n",
    "    }\n",
    "})"
   ]
  },
  {
   "cell_type": "code",
   "execution_count": 63,
   "id": "3ae870ff",
   "metadata": {},
   "outputs": [],
   "source": [
    "# Create SQL program parameterized by source and sink connnector configurations.\n",
    "def build_sql(transaction_source_config: str, windowed_sink_config: str) -> str:\n",
    "    return f\"\"\"\n",
    "    -- get source transactions table    \n",
    "    CREATE TABLE TRANSACTIONS(\n",
    "        tid STRING,\n",
    "        date_time TIMESTAMP,\n",
    "        account_id STRING,\n",
    "        amount DOUBLE\n",
    "    ) WITH (\n",
    "        'connectors' = '[{transaction_source_config}]'\n",
    "    );\n",
    "\n",
    "    -- Create a 5 minutes hopping window aggregation from data from transactions table\n",
    "    CREATE LOCAL VIEW HOP as \n",
    "        SELECT * \n",
    "        FROM TABLE(HOP(TABLE TRANSACTIONS, DESCRIPTOR(date_time), INTERVAL 5 MINUTES, INTERVAL 1 MINUTES));\n",
    "    \n",
    "    -- Compute aggregates from it\n",
    "    CREATE VIEW WINDOWED \n",
    "    WITH (\n",
    "        'connectors' = '[{windowed_sink_config}]'\n",
    "    ) AS\n",
    "        SELECT\n",
    "            COUNT(account_id) AS count_trans,\n",
    "            MIN(amount) AS min_amount,\n",
    "            MAX(amount) AS max_amount,\n",
    "            AVG(amount) AS avg_amount,\n",
    "            window_end AS date_time,\n",
    "            account_id\n",
    "        FROM hop\n",
    "        GROUP BY account_id, window_end;\n",
    "    \"\"\"\n",
    "    "
   ]
  },
  {
   "cell_type": "code",
   "execution_count": 64,
   "id": "cdbc7ffd",
   "metadata": {},
   "outputs": [],
   "source": [
    "sql = build_sql(transaction_source_config, windowed_sink_config)\n",
    "pipeline = PipelineBuilder(client, name = \"hopsworks_kafka\", sql = sql).create_or_replace()"
   ]
  },
  {
   "cell_type": "code",
   "execution_count": 65,
   "id": "21b202c8",
   "metadata": {},
   "outputs": [],
   "source": [
    "# Start the Feldera pipeline.\n",
    "pipeline.start()"
   ]
  },
  {
   "cell_type": "code",
   "execution_count": null,
   "id": "85a70645",
   "metadata": {},
   "outputs": [],
   "source": []
  }
 ],
 "metadata": {
  "kernelspec": {
   "display_name": "Python",
   "language": "python",
   "name": "python3"
  },
  "language_info": {
   "codemirror_mode": {
    "name": "ipython",
    "version": 3
   },
   "file_extension": ".py",
   "mimetype": "text/x-python",
   "name": "python",
   "nbconvert_exporter": "python",
   "pygments_lexer": "ipython3",
   "version": "3.10.11"
  }
 },
 "nbformat": 4,
 "nbformat_minor": 5
}
