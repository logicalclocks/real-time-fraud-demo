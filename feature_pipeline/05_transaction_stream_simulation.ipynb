{
 "cells": [
  {
   "cell_type": "code",
   "execution_count": 30,
   "id": "323a3878",
   "metadata": {},
   "outputs": [],
   "source": [
    "import hopsworks\n",
    "import json\n",
    "import os\n",
    "import pandas as pd\n",
    "\n",
    "from confluent_kafka import Producer"
   ]
  },
  {
   "cell_type": "code",
   "execution_count": 31,
   "id": "58a48f4d",
   "metadata": {},
   "outputs": [
    {
     "name": "stdout",
     "output_type": "stream",
     "text": [
      "Connection closed.\n",
      "2024-10-17 22:39:29,429 INFO: Python Engine initialized.\n",
      "\n",
      "Logged in to project, explore it here https://demo.hops.works/p/123\n"
     ]
    }
   ],
   "source": [
    "project = hopsworks.login()"
   ]
  },
  {
   "cell_type": "code",
   "execution_count": 32,
   "id": "8a1a0aa8",
   "metadata": {},
   "outputs": [
    {
     "data": {
      "text/plain": [
       "KafkaTopic('payment_fraud_real_time_live_transactions')"
      ]
     },
     "execution_count": 32,
     "metadata": {},
     "output_type": "execute_result"
    }
   ],
   "source": [
    "# create kafka topic\n",
    "KAFKA_TOPIC_NAME = f\"{project.name}_real_time_live_transactions\"\n",
    "SCHEMA_NAME = \"live_transactions_schema\"\n",
    "\n",
    "kafka_api = project.get_kafka_api()\n",
    "\n",
    "schema = {\n",
    "    \"type\": \"record\",\n",
    "    \"name\": SCHEMA_NAME,\n",
    "    \"namespace\": \"ai.hopsworks.examples.feldera.fraud\",\n",
    "    \"fields\": [\n",
    "        {\n",
    "            \"name\": \"tid\",\n",
    "            \"type\": [\n",
    "                \"null\",\n",
    "                \"string\"\n",
    "            ]\n",
    "        },\n",
    "        {\n",
    "            \"name\": \"date_time\",\n",
    "            \"type\": [\n",
    "                \"null\",\n",
    "                \"string\"\n",
    "            ]\n",
    "        },\n",
    "        {\n",
    "            \"name\": \"account_id\",\n",
    "            \"type\": [\n",
    "                \"null\",\n",
    "                \"long\"\n",
    "            ]\n",
    "        },\n",
    "        {\n",
    "            \"name\": \"amount\",\n",
    "            \"type\": [\n",
    "                \"null\",\n",
    "                \"double\"\n",
    "            ]\n",
    "        },\n",
    "    ]\n",
    "}\n",
    "\n",
    "kafka_api.create_schema(SCHEMA_NAME, schema)\n",
    "kafka_api.create_topic(KAFKA_TOPIC_NAME, SCHEMA_NAME, 1, replicas=1, partitions=1)"
   ]
  },
  {
   "cell_type": "code",
   "execution_count": 33,
   "id": "3fd20839",
   "metadata": {},
   "outputs": [
    {
     "name": "stdout",
     "output_type": "stream",
     "text": [
      "{'security.protocol': 'SSL', 'ssl.ca.location': '/tmp/ca_chain.pem', 'ssl.certificate.location': '/tmp/client_cert.pem', 'ssl.key.location': '/tmp/client_key.pem', 'client.id': 'jupyter-payment-fraud--fabio000-778d467fdb-htxcp', 'group.id': 'my-group-id', 'ssl.endpoint.identification.algorithm': 'none', 'bootstrap.servers': 'kafka-cluster-kafka-0.kafka-cluster-kafka-brokers.hopsworks.svc:9092'}\n"
     ]
    }
   ],
   "source": [
    "# setup kafka producer\n",
    "kafka_config = kafka_api.get_default_config()\n",
    "\n",
    "print(kafka_config)\n",
    "producer = Producer(kafka_config)"
   ]
  },
  {
   "cell_type": "code",
   "execution_count": 34,
   "id": "69542cb0",
   "metadata": {},
   "outputs": [],
   "source": [
    "transactions_pdf = pd.read_csv(f\"{os.environ['PROJECT_PATH']}/Jupyter/RawData/historical_transactions.csv\")\n",
    "transactions_pdf = transactions_pdf[['tid', 'date_time', 'account_id', 'amount']]"
   ]
  },
  {
   "cell_type": "code",
   "execution_count": 35,
   "id": "d23a7350",
   "metadata": {},
   "outputs": [
    {
     "data": {
      "text/html": [
       "<div>\n",
       "<style scoped>\n",
       "    .dataframe tbody tr th:only-of-type {\n",
       "        vertical-align: middle;\n",
       "    }\n",
       "\n",
       "    .dataframe tbody tr th {\n",
       "        vertical-align: top;\n",
       "    }\n",
       "\n",
       "    .dataframe thead th {\n",
       "        text-align: right;\n",
       "    }\n",
       "</style>\n",
       "<table border=\"1\" class=\"dataframe\">\n",
       "  <thead>\n",
       "    <tr style=\"text-align: right;\">\n",
       "      <th></th>\n",
       "      <th>tid</th>\n",
       "      <th>date_time</th>\n",
       "      <th>account_id</th>\n",
       "      <th>amount</th>\n",
       "    </tr>\n",
       "  </thead>\n",
       "  <tbody>\n",
       "    <tr>\n",
       "      <th>0</th>\n",
       "      <td>f2747ffa038b12b8568a8cdf60504e0b</td>\n",
       "      <td>2024-04-20 17:18:14</td>\n",
       "      <td>16d0762b977594acf65b570b685766a4</td>\n",
       "      <td>70.78</td>\n",
       "    </tr>\n",
       "    <tr>\n",
       "      <th>1</th>\n",
       "      <td>0596a96da829a9a343b1ba526e8556a6</td>\n",
       "      <td>2024-04-20 17:20:14</td>\n",
       "      <td>015443a3f5aa7916f14c66d3d3bfb0d5</td>\n",
       "      <td>39.42</td>\n",
       "    </tr>\n",
       "    <tr>\n",
       "      <th>2</th>\n",
       "      <td>5f140eb04ba7257d4afdee345a7ed5e5</td>\n",
       "      <td>2024-04-20 17:24:31</td>\n",
       "      <td>cafdc9010b1145e3ee5f3aba1f96cc6a</td>\n",
       "      <td>44.22</td>\n",
       "    </tr>\n",
       "    <tr>\n",
       "      <th>3</th>\n",
       "      <td>66009ba1b5ef90a5b2be7cc75312a093</td>\n",
       "      <td>2024-04-20 17:28:45</td>\n",
       "      <td>73bb37cd9253957f537f580aa71be0e5</td>\n",
       "      <td>26.52</td>\n",
       "    </tr>\n",
       "    <tr>\n",
       "      <th>4</th>\n",
       "      <td>239727d9e0e67190d1f98dac2896eeab</td>\n",
       "      <td>2024-04-20 17:38:37</td>\n",
       "      <td>bbd0bbf42aadedbcd902580d170df617</td>\n",
       "      <td>69.33</td>\n",
       "    </tr>\n",
       "    <tr>\n",
       "      <th>...</th>\n",
       "      <td>...</td>\n",
       "      <td>...</td>\n",
       "      <td>...</td>\n",
       "      <td>...</td>\n",
       "    </tr>\n",
       "    <tr>\n",
       "      <th>71317</th>\n",
       "      <td>7efceeff1e5b6d90d7064ed3324d6353</td>\n",
       "      <td>2024-08-18 04:39:46</td>\n",
       "      <td>e6cacaf243f3aeb4cbc988ac3f0d62e6</td>\n",
       "      <td>505.11</td>\n",
       "    </tr>\n",
       "    <tr>\n",
       "      <th>71318</th>\n",
       "      <td>836f1040738d8802d664533b8d0b094f</td>\n",
       "      <td>2024-08-14 02:39:46</td>\n",
       "      <td>e6cacaf243f3aeb4cbc988ac3f0d62e6</td>\n",
       "      <td>531.13</td>\n",
       "    </tr>\n",
       "    <tr>\n",
       "      <th>71319</th>\n",
       "      <td>97b6ee0d90e093bff11ff48fe2e0ed48</td>\n",
       "      <td>2024-08-10 00:39:46</td>\n",
       "      <td>e6cacaf243f3aeb4cbc988ac3f0d62e6</td>\n",
       "      <td>83.65</td>\n",
       "    </tr>\n",
       "    <tr>\n",
       "      <th>71320</th>\n",
       "      <td>7ab38e90f7e6669115bdbecb281e52cb</td>\n",
       "      <td>2024-08-05 22:39:46</td>\n",
       "      <td>e6cacaf243f3aeb4cbc988ac3f0d62e6</td>\n",
       "      <td>5684.61</td>\n",
       "    </tr>\n",
       "    <tr>\n",
       "      <th>71321</th>\n",
       "      <td>4e36814fd58a177383a6c1a2284d5652</td>\n",
       "      <td>2024-08-01 20:39:46</td>\n",
       "      <td>e6cacaf243f3aeb4cbc988ac3f0d62e6</td>\n",
       "      <td>1.90</td>\n",
       "    </tr>\n",
       "  </tbody>\n",
       "</table>\n",
       "<p>71322 rows × 4 columns</p>\n",
       "</div>"
      ],
      "text/plain": [
       "                                    tid            date_time  \\\n",
       "0      f2747ffa038b12b8568a8cdf60504e0b  2024-04-20 17:18:14   \n",
       "1      0596a96da829a9a343b1ba526e8556a6  2024-04-20 17:20:14   \n",
       "2      5f140eb04ba7257d4afdee345a7ed5e5  2024-04-20 17:24:31   \n",
       "3      66009ba1b5ef90a5b2be7cc75312a093  2024-04-20 17:28:45   \n",
       "4      239727d9e0e67190d1f98dac2896eeab  2024-04-20 17:38:37   \n",
       "...                                 ...                  ...   \n",
       "71317  7efceeff1e5b6d90d7064ed3324d6353  2024-08-18 04:39:46   \n",
       "71318  836f1040738d8802d664533b8d0b094f  2024-08-14 02:39:46   \n",
       "71319  97b6ee0d90e093bff11ff48fe2e0ed48  2024-08-10 00:39:46   \n",
       "71320  7ab38e90f7e6669115bdbecb281e52cb  2024-08-05 22:39:46   \n",
       "71321  4e36814fd58a177383a6c1a2284d5652  2024-08-01 20:39:46   \n",
       "\n",
       "                             account_id   amount  \n",
       "0      16d0762b977594acf65b570b685766a4    70.78  \n",
       "1      015443a3f5aa7916f14c66d3d3bfb0d5    39.42  \n",
       "2      cafdc9010b1145e3ee5f3aba1f96cc6a    44.22  \n",
       "3      73bb37cd9253957f537f580aa71be0e5    26.52  \n",
       "4      bbd0bbf42aadedbcd902580d170df617    69.33  \n",
       "...                                 ...      ...  \n",
       "71317  e6cacaf243f3aeb4cbc988ac3f0d62e6   505.11  \n",
       "71318  e6cacaf243f3aeb4cbc988ac3f0d62e6   531.13  \n",
       "71319  e6cacaf243f3aeb4cbc988ac3f0d62e6    83.65  \n",
       "71320  e6cacaf243f3aeb4cbc988ac3f0d62e6  5684.61  \n",
       "71321  e6cacaf243f3aeb4cbc988ac3f0d62e6     1.90  \n",
       "\n",
       "[71322 rows x 4 columns]"
      ]
     },
     "execution_count": 35,
     "metadata": {},
     "output_type": "execute_result"
    }
   ],
   "source": [
    "transactions_pdf"
   ]
  },
  {
   "cell_type": "code",
   "execution_count": 36,
   "id": "ea0f63d7",
   "metadata": {},
   "outputs": [],
   "source": [
    "data = json.loads(transactions_pdf.to_json(orient=\"records\"))"
   ]
  },
  {
   "cell_type": "code",
   "execution_count": 37,
   "id": "bd228bad",
   "metadata": {},
   "outputs": [
    {
     "data": {
      "text/plain": [
       "{'tid': '0596a96da829a9a343b1ba526e8556a6',\n",
       " 'date_time': '2024-04-20 17:20:14',\n",
       " 'account_id': '015443a3f5aa7916f14c66d3d3bfb0d5',\n",
       " 'amount': 39.42}"
      ]
     },
     "execution_count": 37,
     "metadata": {},
     "output_type": "execute_result"
    }
   ],
   "source": [
    "data[1]"
   ]
  },
  {
   "cell_type": "code",
   "execution_count": 38,
   "id": "95072d3d",
   "metadata": {},
   "outputs": [],
   "source": [
    "batch_size = 0\n",
    "for t in data:\n",
    "    producer.produce(KAFKA_TOPIC_NAME, json.dumps(t))\n",
    "    batch_size += 1\n",
    "    \n",
    "    if batch_size == 10:\n",
    "        producer.flush()\n",
    "        batch_size = 0"
   ]
  }
 ],
 "metadata": {
  "kernelspec": {
   "display_name": "Python",
   "language": "python",
   "name": "python3"
  },
  "language_info": {
   "codemirror_mode": {
    "name": "ipython",
    "version": 3
   },
   "file_extension": ".py",
   "mimetype": "text/x-python",
   "name": "python",
   "nbconvert_exporter": "python",
   "pygments_lexer": "ipython3",
   "version": "3.10.11"
  }
 },
 "nbformat": 4,
 "nbformat_minor": 5
}
