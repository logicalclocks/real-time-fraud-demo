{
 "cells": [
  {
   "cell_type": "code",
   "execution_count": 14,
   "id": "9ebc4cc4",
   "metadata": {},
   "outputs": [],
   "source": [
    "import hopsworks\n",
    "from datetime import datetime, timezone"
   ]
  },
  {
   "cell_type": "code",
   "execution_count": 15,
   "id": "d9b9f05c",
   "metadata": {},
   "outputs": [
    {
     "name": "stdout",
     "output_type": "stream",
     "text": [
      "Connection closed.\n",
      "2024-10-17 23:06:35,064 INFO: Python Engine initialized.\n",
      "\n",
      "Logged in to project, explore it here https://demo.hops.works/p/123\n"
     ]
    }
   ],
   "source": [
    "# Connect to the Hopsworks Feature Store\n",
    "project = hopsworks.login()\n",
    "fs = project.get_feature_store()"
   ]
  },
  {
   "cell_type": "code",
   "execution_count": 18,
   "id": "6d351f60",
   "metadata": {},
   "outputs": [
    {
     "name": "stdout",
     "output_type": "stream",
     "text": [
      "Feature Group created successfully, explore it at \n",
      "https://demo.hops.works/p/123/fs/68/fg/1086\n"
     ]
    },
    {
     "data": {
      "text/plain": [
       "(None, None)"
      ]
     },
     "execution_count": 18,
     "metadata": {},
     "output_type": "execute_result"
    }
   ],
   "source": [
    "from hsfs.feature import Feature\n",
    "\n",
    "# Setup the feature groups for the bytewax pipelines\n",
    "features = [\n",
    "    Feature(name=\"account_id\", type=\"string\"),\n",
    "    Feature(name=\"date_time\", type=\"timestamp\"),\n",
    "    Feature(name=\"count_trans\", description=\"Number of transactions in the last 5 minutes\", type=\"bigint\"),\n",
    "    Feature(name=\"min_amount\", description=\"Min transaction amount in the last 5 minutes\", type=\"double\"),\n",
    "    Feature(name=\"max_amount\", description=\"Max transaction amount in the last 5 minutes\", type=\"double\"),\n",
    "    Feature(name=\"avg_amount\", description=\"Average transaction amount in the last 5 minutes\", type=\"double\")\n",
    "]\n",
    "\n",
    "fg = fs.create_feature_group(\n",
    "    name=\"profiles_activity_5m\",\n",
    "    description=\"Profiles activity within the last 5 minutes\",\n",
    "    version=1,\n",
    "    primary_key=[\"account_id\"],\n",
    "    event_time=\"date_time\",\n",
    "    statistics_config={'histograms': True, 'correlations': True},\n",
    "    online_enabled=True,\n",
    ")\n",
    "\n",
    "fg.save(features)"
   ]
  },
  {
   "cell_type": "code",
   "execution_count": 19,
   "id": "ff52c04c",
   "metadata": {},
   "outputs": [
    {
     "data": {
      "text/plain": [
       "<hopsworks_common.job_schedule.JobSchedule at 0x7f4fd0ea4b80>"
      ]
     },
     "execution_count": 19,
     "metadata": {},
     "output_type": "execute_result"
    }
   ],
   "source": [
    "## Set a materialization job for the feature group in Hopsworks\n",
    "# materialize every 10 minutes\n",
    "fg.materialization_job.schedule(cron_expression = \"0 /10 * ? * * *\", start_time=datetime.now(tz=timezone.utc))"
   ]
  },
  {
   "cell_type": "code",
   "execution_count": null,
   "id": "e325f073",
   "metadata": {},
   "outputs": [],
   "source": []
  }
 ],
 "metadata": {
  "kernelspec": {
   "display_name": "Python",
   "language": "python",
   "name": "python3"
  },
  "language_info": {
   "codemirror_mode": {
    "name": "ipython",
    "version": 3
   },
   "file_extension": ".py",
   "mimetype": "text/x-python",
   "name": "python",
   "nbconvert_exporter": "python",
   "pygments_lexer": "ipython3",
   "version": "3.10.11"
  }
 },
 "nbformat": 4,
 "nbformat_minor": 5
}
