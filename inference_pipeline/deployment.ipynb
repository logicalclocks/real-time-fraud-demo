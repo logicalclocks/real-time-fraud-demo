{
 "cells": [
  {
   "cell_type": "code",
   "execution_count": 30,
   "id": "ac002bc4",
   "metadata": {},
   "outputs": [],
   "source": [
    "import hopsworks\n",
    "import os\n",
    "from datetime import datetime"
   ]
  },
  {
   "cell_type": "code",
   "execution_count": 2,
   "id": "b17c720a",
   "metadata": {},
   "outputs": [
    {
     "name": "stdout",
     "output_type": "stream",
     "text": [
      "2024-10-17 15:44:00,772 INFO: Python Engine initialized.\n",
      "\n",
      "Logged in to project, explore it here https://demo.hops.works/p/123\n"
     ]
    }
   ],
   "source": [
    "project = hopsworks.login()\n",
    "mr = project.get_model_registry()"
   ]
  },
  {
   "cell_type": "code",
   "execution_count": 3,
   "id": "2847d82a",
   "metadata": {},
   "outputs": [],
   "source": [
    "# get model object\n",
    "model = mr.get_model(\"xgboost_fraud_model\", version=1)"
   ]
  },
  {
   "cell_type": "code",
   "execution_count": 138,
   "id": "c667ba0e",
   "metadata": {},
   "outputs": [
    {
     "name": "stdout",
     "output_type": "stream",
     "text": [
      "Overwriting /tmp/predict_example.py\n"
     ]
    }
   ],
   "source": [
    "%%writefile /tmp/predict_example.py\n",
    "import os\n",
    "import numpy as np\n",
    "import pandas as pd\n",
    "import hopsworks\n",
    "import joblib\n",
    "from datetime import datetime\n",
    "\n",
    "class Predict(object):\n",
    "\n",
    "    def __init__(self, model):\n",
    "        # initialize serving\n",
    "        project = hopsworks.login()\n",
    "        fs = project.get_feature_store()\n",
    "        \n",
    "        # Initialize the feature view using the model provenance\n",
    "        model_fv = model.get_feature_view()\n",
    "        self.fraud_fv = fs.get_feature_view(model_fv.name, model_fv.version)\n",
    "\n",
    "        # load the trained model\n",
    "        self.model = joblib.load(\n",
    "            os.environ[\"ARTIFACT_FILES_PATH\"] + \"/xgboost_fraud_model.pkl\"\n",
    "        )\n",
    "\n",
    "        print(\"Initialization Complete\")\n",
    "\n",
    "    def predict(self, inputs):\n",
    "        feature_vector = self.prepare_feature_vector(inputs[0])\n",
    "        return self.model.predict(np.asarray(feature_vector).reshape(1, -1)).tolist()\n",
    "\n",
    "    def prepare_feature_vector(self, input_transaction):\n",
    "        # Fetch Inference Helper feature values to compute on-demand features\n",
    "        helpers_df = self.fraud_fv.get_inference_helper(\n",
    "            entry={\"account_id\": input_transaction[\"account_id\"]},\n",
    "            return_type=\"dict\"\n",
    "        )\n",
    "        helpers_df['latitude'] = input_transaction['latitude']\n",
    "        helpers_df['longitude'] = input_transaction['longitude']\n",
    "        helpers_df[\"datetime\"] = datetime.strptime(input_transaction['datetime'], \"%Y-%m-%d %H:%M:%S\")\n",
    "        helpers_df['transaction_city'] = input_transaction['city']\n",
    "        \n",
    "        passed_features = {\n",
    "            \"amount\": input_transaction[\"amount\"],\n",
    "            \"category\": input_transaction[\"category\"]\n",
    "        }\n",
    "        \n",
    "        feature_vector = self.fraud_fv.get_feature_vector(\n",
    "            {\"account_id\": input_transaction[\"account_id\"]}, \n",
    "            allow_missing=True,\n",
    "            passed_features=passed_features,\n",
    "            request_parameters=helpers_df,\n",
    "            transform=True,\n",
    "            return_type=\"pandas\"\n",
    "        )     \n",
    "\n",
    "        return feature_vector"
   ]
  },
  {
   "cell_type": "code",
   "execution_count": 139,
   "id": "bf70b433",
   "metadata": {},
   "outputs": [
    {
     "data": {
      "application/vnd.jupyter.widget-view+json": {
       "model_id": "89683bf742fb4999a7d477dbcd9bb61d",
       "version_major": 2,
       "version_minor": 0
      },
      "text/plain": [
       "Uploading: 0.000%|          | 0/1952 elapsed<00:00 remaining<?"
      ]
     },
     "metadata": {},
     "output_type": "display_data"
    }
   ],
   "source": [
    "# Get the dataset API for the current project\n",
    "dataset_api = project.get_dataset_api()\n",
    "\n",
    "# Specify the local file path of the Python script to be uploaded\n",
    "local_script_path = \"/tmp/predict_example.py\"\n",
    "\n",
    "# Upload the Python script to the \"Models\", and overwrite if it already exists\n",
    "uploaded_file_path = dataset_api.upload(local_script_path, \"Models\", overwrite=True)\n",
    "\n",
    "# Create the full path to the uploaded script for future reference\n",
    "predictor_script_path = os.path.join(\"/Projects\", project.name, uploaded_file_path)"
   ]
  },
  {
   "cell_type": "code",
   "execution_count": 140,
   "id": "85287e76",
   "metadata": {},
   "outputs": [
    {
     "name": "stdout",
     "output_type": "stream",
     "text": [
      "Deployment created, explore it at https://demo.hops.works/p/123/deployments/1044\n",
      "Before making predictions, start the deployment by using `.start()`\n"
     ]
    }
   ],
   "source": [
    "# Deploy the fraud model\n",
    "deployment = model.deploy(\n",
    "    name=\"fraudonline\",\n",
    "    script_file=predictor_script_path,\n",
    ")"
   ]
  },
  {
   "cell_type": "code",
   "execution_count": 141,
   "id": "eef7ac6d",
   "metadata": {},
   "outputs": [
    {
     "data": {
      "application/vnd.jupyter.widget-view+json": {
       "model_id": "9c96f01043e948989fe06d344c56e9d0",
       "version_major": 2,
       "version_minor": 0
      },
      "text/plain": [
       "  0%|          | 0/5 [00:00<?, ?it/s]"
      ]
     },
     "metadata": {},
     "output_type": "display_data"
    },
    {
     "name": "stdout",
     "output_type": "stream",
     "text": [
      "Start making predictions by using `.predict()`\n"
     ]
    }
   ],
   "source": [
    "deployment.start(await_running=300)"
   ]
  },
  {
   "cell_type": "code",
   "execution_count": 142,
   "id": "894806ef",
   "metadata": {},
   "outputs": [
    {
     "name": "stdout",
     "output_type": "stream",
     "text": [
      "Deployment: fraudonline\n",
      "{\n",
      "    \"api_protocol\": \"REST\",\n",
      "    \"artifact_version\": 4,\n",
      "    \"batching_configuration\": {\n",
      "        \"batching_enabled\": false\n",
      "    },\n",
      "    \"created\": \"2024-10-17T17:01:00.687Z\",\n",
      "    \"creator\": \"Fabio Buso\",\n",
      "    \"description\": null,\n",
      "    \"id\": 1044,\n",
      "    \"inference_logging\": \"NONE\",\n",
      "    \"model_framework\": \"PYTHON\",\n",
      "    \"model_name\": \"xgboost_fraud_model\",\n",
      "    \"model_path\": \"/Projects/payment_fraud/Models/xgboost_fraud_model\",\n",
      "    \"model_server\": \"PYTHON\",\n",
      "    \"model_version\": 1,\n",
      "    \"name\": \"fraudonline\",\n",
      "    \"predictor\": \"predict_example.py\",\n",
      "    \"predictor_resources\": {\n",
      "        \"limits\": {\n",
      "            \"cores\": 2,\n",
      "            \"gpus\": 0,\n",
      "            \"memory\": 1024\n",
      "        },\n",
      "        \"requests\": {\n",
      "            \"cores\": 0.2,\n",
      "            \"gpus\": 0,\n",
      "            \"memory\": 32\n",
      "        }\n",
      "    },\n",
      "    \"project_namespace\": \"payment-fraud\",\n",
      "    \"requested_instances\": 1,\n",
      "    \"serving_tool\": \"KSERVE\"\n",
      "}\n"
     ]
    }
   ],
   "source": [
    "# Print the name of the deployment\n",
    "print(\"Deployment: \" + deployment.name)\n",
    "\n",
    "# Display information about the deployment\n",
    "deployment.describe()"
   ]
  },
  {
   "cell_type": "code",
   "execution_count": 147,
   "id": "557c4f7f",
   "metadata": {},
   "outputs": [
    {
     "data": {
      "text/plain": [
       "{'predictions': [0]}"
      ]
     },
     "execution_count": 147,
     "metadata": {},
     "output_type": "execute_result"
    }
   ],
   "source": [
    "# Make a prediction\n",
    "deployment.predict(inputs = [{\n",
    "    'account_id': 'b9ae1b2174c5333c3a2c8bab6d64c3b6',\n",
    "    'amount': 1234,\n",
    "    'category': 'Cash Withdrawal',\n",
    "    'city': 'Collinwood',\n",
    "    'latitude': 40.65538,\n",
    "    'longitude': -74.38987,\n",
    "    'datetime': '2024-04-19 13:31:37',\n",
    "}])"
   ]
  },
  {
   "cell_type": "code",
   "execution_count": null,
   "id": "20767986",
   "metadata": {},
   "outputs": [],
   "source": []
  },
  {
   "cell_type": "code",
   "execution_count": null,
   "id": "a7a33470",
   "metadata": {},
   "outputs": [],
   "source": []
  }
 ],
 "metadata": {
  "kernelspec": {
   "display_name": "Python",
   "language": "python",
   "name": "python3"
  },
  "language_info": {
   "codemirror_mode": {
    "name": "ipython",
    "version": 3
   },
   "file_extension": ".py",
   "mimetype": "text/x-python",
   "name": "python",
   "nbconvert_exporter": "python",
   "pygments_lexer": "ipython3",
   "version": "3.10.11"
  }
 },
 "nbformat": 4,
 "nbformat_minor": 5
}
