{
 "cells": [
  {
   "cell_type": "code",
   "execution_count": 2,
   "id": "a2c403c1",
   "metadata": {},
   "outputs": [
    {
     "name": "stdout",
     "output_type": "stream",
     "text": [
      "Collecting faker\n",
      "  Downloading Faker-30.6.0-py3-none-any.whl (1.8 MB)\n",
      "\u001b[2K     \u001b[90m━━━━━━━━━━━━━━━━━━━━━━━━━━━━━━━━━━━━━━━━\u001b[0m \u001b[32m1.8/1.8 MB\u001b[0m \u001b[31m20.5 MB/s\u001b[0m eta \u001b[36m0:00:00\u001b[0ma \u001b[36m0:00:01\u001b[0m\n",
      "\u001b[?25hRequirement already satisfied: python-dateutil>=2.4 in /srv/hops/anaconda/envs/hopsworks_environment/lib/python3.10/site-packages (from faker) (2.9.0.post0)\n",
      "Requirement already satisfied: typing-extensions in /srv/hops/anaconda/envs/hopsworks_environment/lib/python3.10/site-packages (from faker) (4.12.2)\n",
      "Requirement already satisfied: six>=1.5 in /srv/hops/anaconda/envs/hopsworks_environment/lib/python3.10/site-packages (from python-dateutil>=2.4->faker) (1.15.0)\n",
      "Installing collected packages: faker\n",
      "Successfully installed faker-30.6.0\n"
     ]
    }
   ],
   "source": [
    "!pip install faker"
   ]
  },
  {
   "cell_type": "code",
   "execution_count": 9,
   "id": "a30500f0",
   "metadata": {},
   "outputs": [],
   "source": [
    "import hopsworks\n",
    "import os\n",
    "\n",
    "from transactions import get_transactions"
   ]
  },
  {
   "cell_type": "code",
   "execution_count": 4,
   "id": "9ebd8f71",
   "metadata": {},
   "outputs": [
    {
     "name": "stdout",
     "output_type": "stream",
     "text": [
      "2024-10-17 17:10:06,299 INFO: Python Engine initialized.\n",
      "\n",
      "Logged in to project, explore it here https://demo.hops.works/p/123\n"
     ]
    }
   ],
   "source": [
    "project = hopsworks.login()"
   ]
  },
  {
   "cell_type": "code",
   "execution_count": 6,
   "id": "3d11b6c6",
   "metadata": {},
   "outputs": [
    {
     "data": {
      "text/plain": [
       "'/Projects/payment_fraud/Jupyter/RawData'"
      ]
     },
     "execution_count": 6,
     "metadata": {},
     "output_type": "execute_result"
    }
   ],
   "source": [
    "# Create dataset on Hopsworks to host demo data\n",
    "dataset_api = project.get_dataset_api()\n",
    "dataset_api.mkdir(\"Jupyter/RawData\")"
   ]
  },
  {
   "cell_type": "code",
   "execution_count": 8,
   "id": "b54ce829",
   "metadata": {},
   "outputs": [],
   "source": [
    "# Generate sample data for demo\n",
    "trans_df, fraud_labels, profiles_df = get_transactions()\n",
    "historical_transactions_df = trans_df.merge(fraud_labels)"
   ]
  },
  {
   "cell_type": "code",
   "execution_count": 12,
   "id": "4b01765b",
   "metadata": {},
   "outputs": [],
   "source": [
    "# Save RawData as CSV files on Hopsworks for feature engineering\n",
    "historical_transactions_df.to_csv(f\"{os.environ['PROJECT_PATH']}/Jupyter/RawData/historical_transactions.csv\", header=True, index=False)\n",
    "profiles_df.to_csv(f\"{os.environ['PROJECT_PATH']}/Jupyter/RawData/kyc.csv\", header=True, index=False)"
   ]
  }
 ],
 "metadata": {
  "kernelspec": {
   "display_name": "Python",
   "language": "python",
   "name": "python3"
  },
  "language_info": {
   "codemirror_mode": {
    "name": "ipython",
    "version": 3
   },
   "file_extension": ".py",
   "mimetype": "text/x-python",
   "name": "python",
   "nbconvert_exporter": "python",
   "pygments_lexer": "ipython3",
   "version": "3.10.11"
  }
 },
 "nbformat": 4,
 "nbformat_minor": 5
}
