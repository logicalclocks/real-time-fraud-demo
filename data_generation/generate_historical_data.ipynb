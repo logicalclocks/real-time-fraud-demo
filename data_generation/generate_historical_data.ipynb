{
 "cells": [
  {
   "cell_type": "code",
   "execution_count": 1,
   "id": "4606fe91",
   "metadata": {},
   "outputs": [],
   "source": [
    "from transactions import get_transactions"
   ]
  },
  {
   "cell_type": "code",
   "execution_count": 2,
   "id": "4feba04e",
   "metadata": {},
   "outputs": [],
   "source": [
    "trans_df, fraud_labels, profiles_df = get_transactions()"
   ]
  },
  {
   "cell_type": "code",
   "execution_count": 3,
   "id": "811c357b",
   "metadata": {},
   "outputs": [],
   "source": [
    "historical_transactions_df = trans_df.merge(fraud_labels)"
   ]
  },
  {
   "cell_type": "code",
   "execution_count": 4,
   "id": "f35a55d7",
   "metadata": {},
   "outputs": [],
   "source": [
    "historical_transactions_df.to_csv(\"historical_transactions.csv\")"
   ]
  },
  {
   "cell_type": "code",
   "execution_count": 5,
   "id": "396bc8da",
   "metadata": {},
   "outputs": [],
   "source": [
    "profiles_df.to_csv(\"kyc.csv\")"
   ]
  },
  {
   "cell_type": "code",
   "execution_count": null,
   "id": "718d964d",
   "metadata": {},
   "outputs": [],
   "source": []
  }
 ],
 "metadata": {
  "kernelspec": {
   "display_name": "Python",
   "language": "python",
   "name": "python3"
  },
  "language_info": {
   "codemirror_mode": {
    "name": "ipython",
    "version": 3
   },
   "file_extension": ".py",
   "mimetype": "text/x-python",
   "name": "python",
   "nbconvert_exporter": "python",
   "pygments_lexer": "ipython3",
   "version": "3.10.11"
  }
 },
 "nbformat": 4,
 "nbformat_minor": 5
}
