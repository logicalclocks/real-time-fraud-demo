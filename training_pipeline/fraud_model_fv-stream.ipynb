{
 "cells": [
  {
   "cell_type": "code",
   "execution_count": 21,
   "id": "1d96dca8",
   "metadata": {},
   "outputs": [],
   "source": [
    "import hopsworks\n",
    "from datetime import datetime"
   ]
  },
  {
   "cell_type": "code",
   "execution_count": 22,
   "id": "6bdfd8e2",
   "metadata": {},
   "outputs": [
    {
     "name": "stdout",
     "output_type": "stream",
     "text": [
      "Connection closed.\n",
      "Connected. Call `.close()` to terminate connection gracefully.\n",
      "\n",
      "Logged in to project, explore it here https://pocs.cloud.hopsworks.ai/p/125\n",
      "Connected. Call `.close()` to terminate connection gracefully.\n"
     ]
    }
   ],
   "source": [
    "project = hopsworks.login()\n",
    "fs = project.get_feature_store()"
   ]
  },
  {
   "cell_type": "code",
   "execution_count": 28,
   "id": "4b3ff765",
   "metadata": {},
   "outputs": [],
   "source": [
    "transactions = fs.get_feature_group(\"transactions\", version=1)\n",
    "profiles = fs.get_feature_group(\"profiles\", version=1)\n",
    "profiles_activity_5m = fs.get_feature_group(\"profiles_activity_5m\", version=1)\n",
    "profiles_last_transaction = fs.get_feature_group(\"profiles_last_transaction\", version=1)"
   ]
  },
  {
   "cell_type": "code",
   "execution_count": 29,
   "id": "9cf74843",
   "metadata": {},
   "outputs": [],
   "source": [
    "query = transactions.select(['fraud_label', 'amount', 'category', 'time_delta_t_minus_1', 'loc_delta_t_minus_1', 'outside_city']).join(\n",
    "    profiles.select_all(include_primary_key=False, include_event_time=False), on='account_id'\n",
    ").join(\n",
    "    profiles_activity_5m.select_all(include_primary_key=False, include_event_time=False), on='account_id'\n",
    ").join(\n",
    "    # Use Left join type as we don't need this data in the training dataset. This is only here to populate the inference helper columns\n",
    "    profiles_last_transaction.select_all(include_primary_key=False), on='account_id', join_type=\"left\"\n",
    ")"
   ]
  },
  {
   "cell_type": "code",
   "execution_count": 30,
   "id": "3d41d031",
   "metadata": {},
   "outputs": [
    {
     "name": "stderr",
     "output_type": "stream",
     "text": [
      "DeprecationWarning: ssl.PROTOCOL_TLS is deprecated\n"
     ]
    },
    {
     "name": "stdout",
     "output_type": "stream",
     "text": [
      "Finished: Reading data from Hopsworks, using Hive (61.68s) \n"
     ]
    },
    {
     "data": {
      "text/html": [
       "<div>\n",
       "<style scoped>\n",
       "    .dataframe tbody tr th:only-of-type {\n",
       "        vertical-align: middle;\n",
       "    }\n",
       "\n",
       "    .dataframe tbody tr th {\n",
       "        vertical-align: top;\n",
       "    }\n",
       "\n",
       "    .dataframe thead th {\n",
       "        text-align: right;\n",
       "    }\n",
       "</style>\n",
       "<table border=\"1\" class=\"dataframe\">\n",
       "  <thead>\n",
       "    <tr style=\"text-align: right;\">\n",
       "      <th></th>\n",
       "      <th>fraud_label</th>\n",
       "      <th>amount</th>\n",
       "      <th>category</th>\n",
       "      <th>time_delta_t_minus_1</th>\n",
       "      <th>loc_delta_t_minus_1</th>\n",
       "      <th>outside_city</th>\n",
       "      <th>cc_provider</th>\n",
       "      <th>cc_type</th>\n",
       "      <th>city</th>\n",
       "      <th>age</th>\n",
       "      <th>cc_expiration_days</th>\n",
       "      <th>count</th>\n",
       "      <th>min_amount</th>\n",
       "      <th>max_amount</th>\n",
       "      <th>mean</th>\n",
       "      <th>last_transaction_datetime</th>\n",
       "      <th>latitude</th>\n",
       "      <th>longitude</th>\n",
       "    </tr>\n",
       "  </thead>\n",
       "  <tbody>\n",
       "    <tr>\n",
       "      <th>0</th>\n",
       "      <td>0</td>\n",
       "      <td>71.23</td>\n",
       "      <td>Domestic Transport</td>\n",
       "      <td>5.864687</td>\n",
       "      <td>0.112752</td>\n",
       "      <td>1</td>\n",
       "      <td>visa</td>\n",
       "      <td>debit</td>\n",
       "      <td>Brighton Beach</td>\n",
       "      <td>45.106849</td>\n",
       "      <td>1572</td>\n",
       "      <td>1</td>\n",
       "      <td>71.23</td>\n",
       "      <td>71.23</td>\n",
       "      <td>71.23</td>\n",
       "      <td>None</td>\n",
       "      <td>None</td>\n",
       "      <td>None</td>\n",
       "    </tr>\n",
       "    <tr>\n",
       "      <th>1</th>\n",
       "      <td>0</td>\n",
       "      <td>36.26</td>\n",
       "      <td>Grocery</td>\n",
       "      <td>0.759375</td>\n",
       "      <td>0.422781</td>\n",
       "      <td>1</td>\n",
       "      <td>visa</td>\n",
       "      <td>debit</td>\n",
       "      <td>Brighton Beach</td>\n",
       "      <td>45.106849</td>\n",
       "      <td>1572</td>\n",
       "      <td>1</td>\n",
       "      <td>36.26</td>\n",
       "      <td>36.26</td>\n",
       "      <td>36.26</td>\n",
       "      <td>None</td>\n",
       "      <td>None</td>\n",
       "      <td>None</td>\n",
       "    </tr>\n",
       "    <tr>\n",
       "      <th>2</th>\n",
       "      <td>0</td>\n",
       "      <td>97.49</td>\n",
       "      <td>Grocery</td>\n",
       "      <td>2.077928</td>\n",
       "      <td>0.036124</td>\n",
       "      <td>1</td>\n",
       "      <td>visa</td>\n",
       "      <td>debit</td>\n",
       "      <td>Brighton Beach</td>\n",
       "      <td>45.106849</td>\n",
       "      <td>1572</td>\n",
       "      <td>1</td>\n",
       "      <td>97.49</td>\n",
       "      <td>97.49</td>\n",
       "      <td>97.49</td>\n",
       "      <td>None</td>\n",
       "      <td>None</td>\n",
       "      <td>None</td>\n",
       "    </tr>\n",
       "    <tr>\n",
       "      <th>3</th>\n",
       "      <td>0</td>\n",
       "      <td>67.81</td>\n",
       "      <td>Clothing</td>\n",
       "      <td>1.909352</td>\n",
       "      <td>0.018586</td>\n",
       "      <td>1</td>\n",
       "      <td>mastercard</td>\n",
       "      <td>debit</td>\n",
       "      <td>Brenham</td>\n",
       "      <td>45.490411</td>\n",
       "      <td>-42</td>\n",
       "      <td>1</td>\n",
       "      <td>67.81</td>\n",
       "      <td>67.81</td>\n",
       "      <td>67.81</td>\n",
       "      <td>None</td>\n",
       "      <td>None</td>\n",
       "      <td>None</td>\n",
       "    </tr>\n",
       "    <tr>\n",
       "      <th>4</th>\n",
       "      <td>0</td>\n",
       "      <td>51.13</td>\n",
       "      <td>Grocery</td>\n",
       "      <td>3.828102</td>\n",
       "      <td>0.317580</td>\n",
       "      <td>1</td>\n",
       "      <td>mastercard</td>\n",
       "      <td>credit</td>\n",
       "      <td>Deltona</td>\n",
       "      <td>41.879452</td>\n",
       "      <td>476</td>\n",
       "      <td>1</td>\n",
       "      <td>51.13</td>\n",
       "      <td>51.13</td>\n",
       "      <td>51.13</td>\n",
       "      <td>None</td>\n",
       "      <td>None</td>\n",
       "      <td>None</td>\n",
       "    </tr>\n",
       "  </tbody>\n",
       "</table>\n",
       "</div>"
      ],
      "text/plain": [
       "   fraud_label  amount            category  time_delta_t_minus_1  \\\n",
       "0            0   71.23  Domestic Transport              5.864687   \n",
       "1            0   36.26             Grocery              0.759375   \n",
       "2            0   97.49             Grocery              2.077928   \n",
       "3            0   67.81            Clothing              1.909352   \n",
       "4            0   51.13             Grocery              3.828102   \n",
       "\n",
       "   loc_delta_t_minus_1  outside_city cc_provider cc_type            city  \\\n",
       "0             0.112752             1        visa   debit  Brighton Beach   \n",
       "1             0.422781             1        visa   debit  Brighton Beach   \n",
       "2             0.036124             1        visa   debit  Brighton Beach   \n",
       "3             0.018586             1  mastercard   debit         Brenham   \n",
       "4             0.317580             1  mastercard  credit         Deltona   \n",
       "\n",
       "         age  cc_expiration_days  count  min_amount  max_amount   mean  \\\n",
       "0  45.106849                1572      1       71.23       71.23  71.23   \n",
       "1  45.106849                1572      1       36.26       36.26  36.26   \n",
       "2  45.106849                1572      1       97.49       97.49  97.49   \n",
       "3  45.490411                 -42      1       67.81       67.81  67.81   \n",
       "4  41.879452                 476      1       51.13       51.13  51.13   \n",
       "\n",
       "  last_transaction_datetime latitude longitude  \n",
       "0                      None     None      None  \n",
       "1                      None     None      None  \n",
       "2                      None     None      None  \n",
       "3                      None     None      None  \n",
       "4                      None     None      None  "
      ]
     },
     "execution_count": 30,
     "metadata": {},
     "output_type": "execute_result"
    }
   ],
   "source": [
    "query.show(5)"
   ]
  },
  {
   "cell_type": "code",
   "execution_count": 32,
   "id": "ac70076d",
   "metadata": {},
   "outputs": [],
   "source": [
    "# Load transformation functions to encode categorical features\n",
    "label_encoder = fs.get_transformation_function(name=\"label_encoder\")"
   ]
  },
  {
   "cell_type": "code",
   "execution_count": 33,
   "id": "32bf4d1f",
   "metadata": {},
   "outputs": [
    {
     "name": "stdout",
     "output_type": "stream",
     "text": [
      "Feature view created successfully, explore it at \n",
      "https://pocs.cloud.hopsworks.ai/p/125/fs/73/fv/fraud_model_fv/version/1\n"
     ]
    }
   ],
   "source": [
    "# Register the feature view with the feature store\n",
    "fraud_model_fv = fs.create_feature_view(\n",
    "    name=\"fraud_model_fv\",\n",
    "    version=1,\n",
    "    description=\"Fraud model feature view\",\n",
    "    query=query,\n",
    "    labels=['fraud_label'],\n",
    "    inference_helper_columns=['city', 'last_transaction_datetime', 'latitude', 'longitude'],\n",
    "    transformation_functions = {\n",
    "        \"category\": label_encoder,\n",
    "        \"cc_provider\": label_encoder,\n",
    "        \"cc_type\": label_encoder\n",
    "    },\n",
    ")"
   ]
  },
  {
   "cell_type": "code",
   "execution_count": 34,
   "id": "98ed6f0f",
   "metadata": {},
   "outputs": [
    {
     "name": "stdout",
     "output_type": "stream",
     "text": [
      "Training dataset job started successfully, you can follow the progress at \n",
      "https://pocs.cloud.hopsworks.ai/p/125/jobs/named/fraud_model_fv_1_create_fv_td_11042024222110/executions\n"
     ]
    },
    {
     "name": "stderr",
     "output_type": "stream",
     "text": [
      "VersionWarning: Incremented version to `1`.\n"
     ]
    },
    {
     "data": {
      "text/plain": [
       "(1, <hsfs.core.job.Job at 0x7f3a8d976470>)"
      ]
     },
     "execution_count": 34,
     "metadata": {},
     "output_type": "execute_result"
    }
   ],
   "source": [
    "# Create training dataset for the model. \n",
    "# Split train and test data by time\n",
    "train_start = datetime(year=2023, month=8, day=1, hour=0, minute=0, second=0)\n",
    "train_end = datetime(year=2024, month=3, day=31, hour=0, minute=0, second=0)\n",
    "test_start = datetime(year=2024, month=4, day=1, hour=0, minute=0, second=0)\n",
    "test_end = datetime(year=2024, month=4, day=10, hour=0, minute=0, second=0)\n",
    "\n",
    "fraud_model_fv.create_train_test_split(\n",
    "    train_start = train_start,\n",
    "    train_end = train_end,\n",
    "    test_start = test_start,\n",
    "    test_end = test_end,\n",
    "    data_format = \"csv\",\n",
    "    coalesce = True,\n",
    "    statistics_config = {'histograms': True, 'correlations': True}\n",
    ")"
   ]
  },
  {
   "cell_type": "code",
   "execution_count": null,
   "id": "f9f9938a",
   "metadata": {},
   "outputs": [],
   "source": []
  }
 ],
 "metadata": {
  "kernelspec": {
   "display_name": "Python 3",
   "language": "python",
   "name": "python3"
  },
  "language_info": {
   "codemirror_mode": {
    "name": "ipython",
    "version": 3
   },
   "file_extension": ".py",
   "mimetype": "text/x-python",
   "name": "python",
   "nbconvert_exporter": "python",
   "pygments_lexer": "ipython3",
   "version": "3.10.11"
  }
 },
 "nbformat": 4,
 "nbformat_minor": 5
}
