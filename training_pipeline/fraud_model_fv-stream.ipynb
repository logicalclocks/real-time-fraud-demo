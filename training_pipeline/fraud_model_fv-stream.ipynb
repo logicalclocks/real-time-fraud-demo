{
 "cells": [
  {
   "cell_type": "code",
   "execution_count": 1,
   "id": "f65a2b9c",
   "metadata": {},
   "outputs": [],
   "source": [
    "import hopsworks\n",
    "from datetime import datetime"
   ]
  },
  {
   "cell_type": "code",
   "execution_count": 2,
   "id": "c021bed2",
   "metadata": {},
   "outputs": [
    {
     "name": "stdout",
     "output_type": "stream",
     "text": [
      "2024-10-18 06:33:29,494 INFO: Python Engine initialized.\n",
      "\n",
      "Logged in to project, explore it here https://demo.hops.works/p/123\n"
     ]
    }
   ],
   "source": [
    "project = hopsworks.login()\n",
    "fs = project.get_feature_store()"
   ]
  },
  {
   "cell_type": "code",
   "execution_count": 3,
   "id": "2549b242",
   "metadata": {},
   "outputs": [],
   "source": [
    "transactions = fs.get_feature_group(\"transactions\", version=1)\n",
    "profiles = fs.get_feature_group(\"profiles\", version=1)\n",
    "profiles_activity_5m = fs.get_feature_group(\"profiles_activity_5m\", version=1)\n",
    "profiles_last_transaction = fs.get_feature_group(\"profiles_last_transaction\", version=1)"
   ]
  },
  {
   "cell_type": "code",
   "execution_count": 7,
   "id": "73c31c91",
   "metadata": {},
   "outputs": [
    {
     "name": "stdout",
     "output_type": "stream",
     "text": [
      "2024-10-18 06:34:44,497 INFO: Using ['cc_provider', 'cc_type', 'city', 'age', 'cc_expiration_days'] as features for the query.To include primary key and event time use `select_all`.\n",
      "2024-10-18 06:34:44,499 INFO: Using ['count_trans', 'min_amount', 'max_amount', 'avg_amount'] as features for the query.To include primary key and event time use `select_all`.\n"
     ]
    }
   ],
   "source": [
    "query = transactions.select(['fraud_label', 'amount', 'category', 'time_delta_t_minus_1', 'loc_delta_t_minus_1', 'is_outside_city']).join(\n",
    "    profiles.select_features(), on='account_id'\n",
    ").join(\n",
    "    profiles_activity_5m.select_features(), on='account_id'\n",
    ").join(\n",
    "    # Use Left join type as we don't need this data in the training dataset. This is only here to populate the inference helper columns\n",
    "    profiles_last_transaction.select_all(include_primary_key=False), on='account_id', join_type=\"left\", prefix=\"last_\"\n",
    ")"
   ]
  },
  {
   "cell_type": "code",
   "execution_count": 8,
   "id": "fa252fcd",
   "metadata": {},
   "outputs": [
    {
     "name": "stdout",
     "output_type": "stream",
     "text": [
      "Finished: Reading data from Hopsworks, using Hopsworks Feature Query Service (2.81s) \n"
     ]
    },
    {
     "data": {
      "text/html": [
       "<div>\n",
       "<style scoped>\n",
       "    .dataframe tbody tr th:only-of-type {\n",
       "        vertical-align: middle;\n",
       "    }\n",
       "\n",
       "    .dataframe tbody tr th {\n",
       "        vertical-align: top;\n",
       "    }\n",
       "\n",
       "    .dataframe thead th {\n",
       "        text-align: right;\n",
       "    }\n",
       "</style>\n",
       "<table border=\"1\" class=\"dataframe\">\n",
       "  <thead>\n",
       "    <tr style=\"text-align: right;\">\n",
       "      <th></th>\n",
       "      <th>fraud_label</th>\n",
       "      <th>amount</th>\n",
       "      <th>category</th>\n",
       "      <th>time_delta_t_minus_1</th>\n",
       "      <th>loc_delta_t_minus_1</th>\n",
       "      <th>is_outside_city</th>\n",
       "      <th>cc_provider</th>\n",
       "      <th>cc_type</th>\n",
       "      <th>city</th>\n",
       "      <th>age</th>\n",
       "      <th>cc_expiration_days</th>\n",
       "      <th>count_trans</th>\n",
       "      <th>min_amount</th>\n",
       "      <th>max_amount</th>\n",
       "      <th>avg_amount</th>\n",
       "      <th>last_transaction_datetime</th>\n",
       "      <th>last_latitude</th>\n",
       "      <th>last_longitude</th>\n",
       "    </tr>\n",
       "  </thead>\n",
       "  <tbody>\n",
       "    <tr>\n",
       "      <th>0</th>\n",
       "      <td>0</td>\n",
       "      <td>70.99</td>\n",
       "      <td>Clothing</td>\n",
       "      <td>13.0</td>\n",
       "      <td>1403.668192</td>\n",
       "      <td>1.0</td>\n",
       "      <td>mastercard</td>\n",
       "      <td>debit</td>\n",
       "      <td>Lower West Side</td>\n",
       "      <td>39.589041</td>\n",
       "      <td>836</td>\n",
       "      <td>1.0</td>\n",
       "      <td>32.21</td>\n",
       "      <td>32.21</td>\n",
       "      <td>32.21</td>\n",
       "      <td>2024-10-10 13:31:58+00:00</td>\n",
       "      <td>41.75338</td>\n",
       "      <td>-86.11084</td>\n",
       "    </tr>\n",
       "    <tr>\n",
       "      <th>1</th>\n",
       "      <td>0</td>\n",
       "      <td>99.20</td>\n",
       "      <td>Grocery</td>\n",
       "      <td>9.0</td>\n",
       "      <td>1089.012447</td>\n",
       "      <td>1.0</td>\n",
       "      <td>mastercard</td>\n",
       "      <td>debit</td>\n",
       "      <td>Lompoc</td>\n",
       "      <td>87.298630</td>\n",
       "      <td>1595</td>\n",
       "      <td>1.0</td>\n",
       "      <td>18.19</td>\n",
       "      <td>18.19</td>\n",
       "      <td>18.19</td>\n",
       "      <td>2024-10-09 07:16:10+00:00</td>\n",
       "      <td>33.54428</td>\n",
       "      <td>-84.23381</td>\n",
       "    </tr>\n",
       "    <tr>\n",
       "      <th>2</th>\n",
       "      <td>0</td>\n",
       "      <td>32.60</td>\n",
       "      <td>Health/Beauty</td>\n",
       "      <td>0.0</td>\n",
       "      <td>429.477442</td>\n",
       "      <td>1.0</td>\n",
       "      <td>visa</td>\n",
       "      <td>credit</td>\n",
       "      <td>Evergreen Park</td>\n",
       "      <td>29.413699</td>\n",
       "      <td>287</td>\n",
       "      <td>1.0</td>\n",
       "      <td>6.53</td>\n",
       "      <td>6.53</td>\n",
       "      <td>6.53</td>\n",
       "      <td>2024-10-11 22:59:56+00:00</td>\n",
       "      <td>40.55760</td>\n",
       "      <td>-74.28459</td>\n",
       "    </tr>\n",
       "    <tr>\n",
       "      <th>3</th>\n",
       "      <td>0</td>\n",
       "      <td>88.61</td>\n",
       "      <td>Grocery</td>\n",
       "      <td>2.0</td>\n",
       "      <td>1287.527437</td>\n",
       "      <td>1.0</td>\n",
       "      <td>visa</td>\n",
       "      <td>credit</td>\n",
       "      <td>Martinsburg</td>\n",
       "      <td>54.627397</td>\n",
       "      <td>1261</td>\n",
       "      <td>1.0</td>\n",
       "      <td>11.31</td>\n",
       "      <td>11.31</td>\n",
       "      <td>11.31</td>\n",
       "      <td>2024-10-12 12:26:05+00:00</td>\n",
       "      <td>41.75338</td>\n",
       "      <td>-86.11084</td>\n",
       "    </tr>\n",
       "    <tr>\n",
       "      <th>4</th>\n",
       "      <td>0</td>\n",
       "      <td>191.32</td>\n",
       "      <td>Electronics</td>\n",
       "      <td>2.0</td>\n",
       "      <td>2177.818849</td>\n",
       "      <td>1.0</td>\n",
       "      <td>visa</td>\n",
       "      <td>debit</td>\n",
       "      <td>Santa Maria</td>\n",
       "      <td>59.717808</td>\n",
       "      <td>106</td>\n",
       "      <td>1.0</td>\n",
       "      <td>91.16</td>\n",
       "      <td>91.16</td>\n",
       "      <td>91.16</td>\n",
       "      <td>2024-10-14 12:12:12+00:00</td>\n",
       "      <td>39.32288</td>\n",
       "      <td>-76.72803</td>\n",
       "    </tr>\n",
       "  </tbody>\n",
       "</table>\n",
       "</div>"
      ],
      "text/plain": [
       "   fraud_label  amount       category  time_delta_t_minus_1  \\\n",
       "0            0   70.99       Clothing                  13.0   \n",
       "1            0   99.20        Grocery                   9.0   \n",
       "2            0   32.60  Health/Beauty                   0.0   \n",
       "3            0   88.61        Grocery                   2.0   \n",
       "4            0  191.32    Electronics                   2.0   \n",
       "\n",
       "   loc_delta_t_minus_1  is_outside_city cc_provider cc_type             city  \\\n",
       "0          1403.668192              1.0  mastercard   debit  Lower West Side   \n",
       "1          1089.012447              1.0  mastercard   debit           Lompoc   \n",
       "2           429.477442              1.0        visa  credit   Evergreen Park   \n",
       "3          1287.527437              1.0        visa  credit      Martinsburg   \n",
       "4          2177.818849              1.0        visa   debit      Santa Maria   \n",
       "\n",
       "         age  cc_expiration_days  count_trans  min_amount  max_amount  \\\n",
       "0  39.589041                 836          1.0       32.21       32.21   \n",
       "1  87.298630                1595          1.0       18.19       18.19   \n",
       "2  29.413699                 287          1.0        6.53        6.53   \n",
       "3  54.627397                1261          1.0       11.31       11.31   \n",
       "4  59.717808                 106          1.0       91.16       91.16   \n",
       "\n",
       "   avg_amount last_transaction_datetime  last_latitude  last_longitude  \n",
       "0       32.21 2024-10-10 13:31:58+00:00       41.75338       -86.11084  \n",
       "1       18.19 2024-10-09 07:16:10+00:00       33.54428       -84.23381  \n",
       "2        6.53 2024-10-11 22:59:56+00:00       40.55760       -74.28459  \n",
       "3       11.31 2024-10-12 12:26:05+00:00       41.75338       -86.11084  \n",
       "4       91.16 2024-10-14 12:12:12+00:00       39.32288       -76.72803  "
      ]
     },
     "execution_count": 8,
     "metadata": {},
     "output_type": "execute_result"
    }
   ],
   "source": [
    "query.show(5)"
   ]
  },
  {
   "cell_type": "code",
   "execution_count": 9,
   "id": "751f1a75",
   "metadata": {},
   "outputs": [],
   "source": [
    "# Load transformation functions to encode categorical features\n",
    "label_encoder = fs.get_transformation_function(name=\"label_encoder\")"
   ]
  },
  {
   "cell_type": "code",
   "execution_count": 10,
   "id": "0b6bf5d6",
   "metadata": {},
   "outputs": [
    {
     "name": "stdout",
     "output_type": "stream",
     "text": [
      "Feature view created successfully, explore it at \n",
      "https://demo.hops.works/p/123/fs/68/fv/fraud_model_stream_fv/version/1\n"
     ]
    }
   ],
   "source": [
    "# Register the feature view with the feature store\n",
    "fraud_model_fv = fs.create_feature_view(\n",
    "    name=\"fraud_model_stream_fv\",\n",
    "    version=1,\n",
    "    description=\"Fraud model feature view\",\n",
    "    query=query,\n",
    "    labels=['fraud_label'],\n",
    "    inference_helper_columns=['city', 'last_transaction_datetime', 'last_latitude', 'last_longitude'],\n",
    "    transformation_functions = [\n",
    "        label_encoder(\"category\"),\n",
    "        label_encoder(\"cc_provider\"),\n",
    "        label_encoder(\"cc_type\")\n",
    "    ]\n",
    ")"
   ]
  },
  {
   "cell_type": "code",
   "execution_count": 11,
   "id": "05deb7ab",
   "metadata": {},
   "outputs": [
    {
     "name": "stdout",
     "output_type": "stream",
     "text": [
      "Training dataset job started successfully, you can follow the progress at \n",
      "https://demo.hops.works/p/123/jobs/named/fraud_model_stream_fv_1_create_fv_td_18102024063542/executions\n",
      "2024-10-18 06:35:52,107 INFO: Waiting for execution to finish. Current state: INITIALIZING. Final status: UNDEFINED\n",
      "2024-10-18 06:35:55,199 INFO: Waiting for execution to finish. Current state: SUBMITTED. Final status: UNDEFINED\n",
      "2024-10-18 06:35:58,282 INFO: Waiting for execution to finish. Current state: RUNNING. Final status: UNDEFINED\n",
      "2024-10-18 06:43:29,124 INFO: Waiting for execution to finish. Current state: AGGREGATING_LOGS. Final status: SUCCEEDED\n",
      "2024-10-18 06:43:29,259 INFO: Waiting for log aggregation to finish.\n",
      "2024-10-18 06:43:53,865 INFO: Execution finished successfully.\n",
      "2024-10-18 06:43:53,868 WARNING: VersionWarning: Incremented version to `1`.\n",
      "\n"
     ]
    },
    {
     "data": {
      "text/plain": [
       "(1, Job('fraud_model_stream_fv_1_create_fv_td_18102024063542', 'PYSPARK'))"
      ]
     },
     "execution_count": 11,
     "metadata": {},
     "output_type": "execute_result"
    }
   ],
   "source": [
    "# Create training dataset for the model. \n",
    "# Split train and test data by time\n",
    "train_start = datetime(year=2023, month=8, day=1, hour=0, minute=0, second=0)\n",
    "train_end = datetime(year=2024, month=9, day=30, hour=0, minute=0, second=0)\n",
    "test_start = datetime(year=2024, month=10, day=1, hour=0, minute=0, second=0)\n",
    "test_end = datetime(year=2024, month=10, day=10, hour=0, minute=0, second=0)\n",
    "\n",
    "fraud_model_fv.create_train_test_split(\n",
    "    train_start = train_start,\n",
    "    train_end = train_end,\n",
    "    test_start = test_start,\n",
    "    test_end = test_end,\n",
    "    data_format = \"csv\",\n",
    "    coalesce = True,\n",
    "    statistics_config = {'histograms': True, 'correlations': True}\n",
    ")"
   ]
  },
  {
   "cell_type": "code",
   "execution_count": null,
   "id": "b0c248ba",
   "metadata": {},
   "outputs": [],
   "source": []
  }
 ],
 "metadata": {
  "kernelspec": {
   "display_name": "Python",
   "language": "python",
   "name": "python3"
  },
  "language_info": {
   "codemirror_mode": {
    "name": "ipython",
    "version": 3
   },
   "file_extension": ".py",
   "mimetype": "text/x-python",
   "name": "python",
   "nbconvert_exporter": "python",
   "pygments_lexer": "ipython3",
   "version": "3.10.11"
  }
 },
 "nbformat": 4,
 "nbformat_minor": 5
}
