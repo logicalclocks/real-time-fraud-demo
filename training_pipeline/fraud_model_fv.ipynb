{
 "cells": [
  {
   "cell_type": "code",
   "execution_count": 1,
   "id": "00165e15",
   "metadata": {},
   "outputs": [],
   "source": [
    "import hopsworks\n",
    "from datetime import datetime"
   ]
  },
  {
   "cell_type": "code",
   "execution_count": 2,
   "id": "1933ddb0",
   "metadata": {},
   "outputs": [
    {
     "name": "stdout",
     "output_type": "stream",
     "text": [
      "2024-10-17 15:29:47,339 INFO: Python Engine initialized.\n",
      "\n",
      "Logged in to project, explore it here https://demo.hops.works/p/123\n"
     ]
    }
   ],
   "source": [
    "project = hopsworks.login()\n",
    "fs = project.get_feature_store()"
   ]
  },
  {
   "cell_type": "code",
   "execution_count": 3,
   "id": "069cac4b",
   "metadata": {},
   "outputs": [],
   "source": [
    "transactions = fs.get_feature_group(\"transactions\", version=1)\n",
    "profiles = fs.get_feature_group(\"profiles\", version=1)\n",
    "profiles_last_transaction = fs.get_feature_group(\"profiles_last_transaction\", version=1)"
   ]
  },
  {
   "cell_type": "code",
   "execution_count": 4,
   "id": "858c239b",
   "metadata": {},
   "outputs": [],
   "source": [
    "query = transactions.select(['fraud_label', 'amount', 'category', 'time_delta_t_minus_1', 'loc_delta_t_minus_1', 'is_outside_city']).join(\n",
    "    profiles.select_all(include_primary_key=False, include_event_time=False), on='account_id'\n",
    ").join(\n",
    "    # Use Left join type as we don't need this data in the training dataset. This is only here to populate the inference helper columns\n",
    "    profiles_last_transaction.select_all(include_primary_key=False), on='account_id', join_type=\"left\", prefix=\"last_\"\n",
    ")"
   ]
  },
  {
   "cell_type": "code",
   "execution_count": 5,
   "id": "1e4bc559",
   "metadata": {},
   "outputs": [
    {
     "name": "stdout",
     "output_type": "stream",
     "text": [
      "Finished: Reading data from Hopsworks, using Hopsworks Feature Query Service (2.03s) \n"
     ]
    },
    {
     "data": {
      "text/html": [
       "<div>\n",
       "<style scoped>\n",
       "    .dataframe tbody tr th:only-of-type {\n",
       "        vertical-align: middle;\n",
       "    }\n",
       "\n",
       "    .dataframe tbody tr th {\n",
       "        vertical-align: top;\n",
       "    }\n",
       "\n",
       "    .dataframe thead th {\n",
       "        text-align: right;\n",
       "    }\n",
       "</style>\n",
       "<table border=\"1\" class=\"dataframe\">\n",
       "  <thead>\n",
       "    <tr style=\"text-align: right;\">\n",
       "      <th></th>\n",
       "      <th>fraud_label</th>\n",
       "      <th>amount</th>\n",
       "      <th>category</th>\n",
       "      <th>time_delta_t_minus_1</th>\n",
       "      <th>loc_delta_t_minus_1</th>\n",
       "      <th>is_outside_city</th>\n",
       "      <th>cc_provider</th>\n",
       "      <th>cc_type</th>\n",
       "      <th>city</th>\n",
       "      <th>age</th>\n",
       "      <th>cc_expiration_days</th>\n",
       "      <th>last_transaction_datetime</th>\n",
       "      <th>last_latitude</th>\n",
       "      <th>last_longitude</th>\n",
       "    </tr>\n",
       "  </thead>\n",
       "  <tbody>\n",
       "    <tr>\n",
       "      <th>0</th>\n",
       "      <td>0</td>\n",
       "      <td>61.38</td>\n",
       "      <td>Grocery</td>\n",
       "      <td>0.0</td>\n",
       "      <td>3388.966515</td>\n",
       "      <td>1.0</td>\n",
       "      <td>mastercard</td>\n",
       "      <td>credit</td>\n",
       "      <td>Front Royal</td>\n",
       "      <td>66.583562</td>\n",
       "      <td>1717</td>\n",
       "      <td>2024-10-03 14:27:02+00:00</td>\n",
       "      <td>47.80527</td>\n",
       "      <td>-122.24064</td>\n",
       "    </tr>\n",
       "    <tr>\n",
       "      <th>1</th>\n",
       "      <td>0</td>\n",
       "      <td>1.14</td>\n",
       "      <td>Grocery</td>\n",
       "      <td>0.0</td>\n",
       "      <td>692.574282</td>\n",
       "      <td>1.0</td>\n",
       "      <td>visa</td>\n",
       "      <td>credit</td>\n",
       "      <td>Far Rockaway</td>\n",
       "      <td>36.035616</td>\n",
       "      <td>683</td>\n",
       "      <td>2024-10-05 03:49:52+00:00</td>\n",
       "      <td>42.58342</td>\n",
       "      <td>-71.80230</td>\n",
       "    </tr>\n",
       "    <tr>\n",
       "      <th>2</th>\n",
       "      <td>0</td>\n",
       "      <td>48.04</td>\n",
       "      <td>Grocery</td>\n",
       "      <td>10.0</td>\n",
       "      <td>0.000000</td>\n",
       "      <td>1.0</td>\n",
       "      <td>visa</td>\n",
       "      <td>debit</td>\n",
       "      <td>Abilene</td>\n",
       "      <td>27.564384</td>\n",
       "      <td>-78</td>\n",
       "      <td>2024-10-15 17:37:33+00:00</td>\n",
       "      <td>43.16547</td>\n",
       "      <td>-77.70066</td>\n",
       "    </tr>\n",
       "    <tr>\n",
       "      <th>3</th>\n",
       "      <td>0</td>\n",
       "      <td>69.76</td>\n",
       "      <td>Grocery</td>\n",
       "      <td>1.0</td>\n",
       "      <td>1575.204164</td>\n",
       "      <td>1.0</td>\n",
       "      <td>mastercard</td>\n",
       "      <td>debit</td>\n",
       "      <td>Norwalk</td>\n",
       "      <td>64.898630</td>\n",
       "      <td>14</td>\n",
       "      <td>2024-10-15 07:08:33+00:00</td>\n",
       "      <td>39.32288</td>\n",
       "      <td>-76.72803</td>\n",
       "    </tr>\n",
       "    <tr>\n",
       "      <th>4</th>\n",
       "      <td>0</td>\n",
       "      <td>43.34</td>\n",
       "      <td>Restaurant/Cafeteria</td>\n",
       "      <td>2.0</td>\n",
       "      <td>563.618853</td>\n",
       "      <td>1.0</td>\n",
       "      <td>visa</td>\n",
       "      <td>credit</td>\n",
       "      <td>Front Royal</td>\n",
       "      <td>54.753425</td>\n",
       "      <td>1139</td>\n",
       "      <td>2024-10-11 09:21:49+00:00</td>\n",
       "      <td>30.17746</td>\n",
       "      <td>-81.38758</td>\n",
       "    </tr>\n",
       "  </tbody>\n",
       "</table>\n",
       "</div>"
      ],
      "text/plain": [
       "   fraud_label  amount              category  time_delta_t_minus_1  \\\n",
       "0            0   61.38               Grocery                   0.0   \n",
       "1            0    1.14               Grocery                   0.0   \n",
       "2            0   48.04               Grocery                  10.0   \n",
       "3            0   69.76               Grocery                   1.0   \n",
       "4            0   43.34  Restaurant/Cafeteria                   2.0   \n",
       "\n",
       "   loc_delta_t_minus_1  is_outside_city cc_provider cc_type          city  \\\n",
       "0          3388.966515              1.0  mastercard  credit   Front Royal   \n",
       "1           692.574282              1.0        visa  credit  Far Rockaway   \n",
       "2             0.000000              1.0        visa   debit       Abilene   \n",
       "3          1575.204164              1.0  mastercard   debit       Norwalk   \n",
       "4           563.618853              1.0        visa  credit   Front Royal   \n",
       "\n",
       "         age  cc_expiration_days last_transaction_datetime  last_latitude  \\\n",
       "0  66.583562                1717 2024-10-03 14:27:02+00:00       47.80527   \n",
       "1  36.035616                 683 2024-10-05 03:49:52+00:00       42.58342   \n",
       "2  27.564384                 -78 2024-10-15 17:37:33+00:00       43.16547   \n",
       "3  64.898630                  14 2024-10-15 07:08:33+00:00       39.32288   \n",
       "4  54.753425                1139 2024-10-11 09:21:49+00:00       30.17746   \n",
       "\n",
       "   last_longitude  \n",
       "0      -122.24064  \n",
       "1       -71.80230  \n",
       "2       -77.70066  \n",
       "3       -76.72803  \n",
       "4       -81.38758  "
      ]
     },
     "execution_count": 5,
     "metadata": {},
     "output_type": "execute_result"
    }
   ],
   "source": [
    "query.show(5)"
   ]
  },
  {
   "cell_type": "code",
   "execution_count": 6,
   "id": "f19eece4",
   "metadata": {},
   "outputs": [],
   "source": [
    "label_encoder = fs.get_transformation_function(name=\"label_encoder\")"
   ]
  },
  {
   "cell_type": "code",
   "execution_count": 7,
   "id": "7510b176",
   "metadata": {},
   "outputs": [
    {
     "name": "stdout",
     "output_type": "stream",
     "text": [
      "Feature view created successfully, explore it at \n",
      "https://demo.hops.works/p/123/fs/68/fv/fraud_model_no_streaming_fv/version/1\n"
     ]
    }
   ],
   "source": [
    "# Register the feature view with the feature store\n",
    "fraud_model_fv = fs.create_feature_view(\n",
    "    name=\"fraud_model_no_streaming_fv\",\n",
    "    version=1,\n",
    "    description=\"Fraud model feature view\",\n",
    "    query=query,\n",
    "    labels=['fraud_label'],\n",
    "    inference_helper_columns=['city', 'last_transaction_datetime', 'last_latitude', 'last_longitude'],\n",
    "    transformation_functions = [\n",
    "        label_encoder(\"category\"),\n",
    "        label_encoder(\"cc_provider\"),\n",
    "        label_encoder(\"cc_type\")\n",
    "    ]\n",
    ")"
   ]
  },
  {
   "cell_type": "code",
   "execution_count": 8,
   "id": "6680a1ec",
   "metadata": {},
   "outputs": [
    {
     "name": "stdout",
     "output_type": "stream",
     "text": [
      "Training dataset job started successfully, you can follow the progress at \n",
      "https://demo.hops.works/p/123/jobs/named/fraud_model_no_streaming_fv_1_create_fv_td_17102024153030/executions\n",
      "2024-10-17 15:30:40,541 INFO: Waiting for execution to finish. Current state: INITIALIZING. Final status: UNDEFINED\n",
      "2024-10-17 15:30:43,663 INFO: Waiting for execution to finish. Current state: SUBMITTED. Final status: UNDEFINED\n",
      "2024-10-17 15:30:46,783 INFO: Waiting for execution to finish. Current state: RUNNING. Final status: UNDEFINED\n",
      "2024-10-17 15:36:29,260 INFO: Waiting for execution to finish. Current state: AGGREGATING_LOGS. Final status: SUCCEEDED\n",
      "2024-10-17 15:36:29,320 INFO: Waiting for log aggregation to finish.\n",
      "2024-10-17 15:36:37,857 INFO: Execution finished successfully.\n",
      "2024-10-17 15:36:37,859 WARNING: VersionWarning: Incremented version to `1`.\n",
      "\n"
     ]
    },
    {
     "data": {
      "text/plain": [
       "(1,\n",
       " Job('fraud_model_no_streaming_fv_1_create_fv_td_17102024153030', 'PYSPARK'))"
      ]
     },
     "execution_count": 8,
     "metadata": {},
     "output_type": "execute_result"
    }
   ],
   "source": [
    "# Create training dataset for the model. \n",
    "# Split train and test data by time\n",
    "train_start = datetime(year=2023, month=8, day=1, hour=0, minute=0, second=0)\n",
    "train_end = datetime(year=2024, month=9, day=30, hour=0, minute=0, second=0)\n",
    "test_start = datetime(year=2024, month=10, day=1, hour=0, minute=0, second=0)\n",
    "test_end = datetime(year=2024, month=10, day=10, hour=0, minute=0, second=0)\n",
    "\n",
    "fraud_model_fv.create_train_test_split(\n",
    "    train_start = train_start,\n",
    "    train_end = train_end,\n",
    "    test_start = test_start,\n",
    "    test_end = test_end,\n",
    "    data_format = \"csv\",\n",
    "    coalesce = True,\n",
    "    statistics_config = {'histograms': True, 'correlations': True}\n",
    ")"
   ]
  },
  {
   "cell_type": "code",
   "execution_count": null,
   "id": "27ab32ec",
   "metadata": {},
   "outputs": [],
   "source": []
  }
 ],
 "metadata": {
  "kernelspec": {
   "display_name": "Python",
   "language": "python",
   "name": "python3"
  },
  "language_info": {
   "codemirror_mode": {
    "name": "ipython",
    "version": 3
   },
   "file_extension": ".py",
   "mimetype": "text/x-python",
   "name": "python",
   "nbconvert_exporter": "python",
   "pygments_lexer": "ipython3",
   "version": "3.10.11"
  }
 },
 "nbformat": 4,
 "nbformat_minor": 5
}
